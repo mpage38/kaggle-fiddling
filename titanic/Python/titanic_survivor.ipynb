{
 "cells": [
  {
   "cell_type": "markdown",
   "metadata": {},
   "source": [
    "## Titanic Survivorship, Logistic Regression & SVM Classification\n",
    "\n",
    "This notebook performs a simple logistic regression and a SVM classification on the data from the Kaggle project on predicting survivorship of the passengers of the Titanic.  Not much is done in feature engineering beyond replacing missing values with medians. We grade the results by using the full survivorship data that was downloaded from [Vanderbuilt Biostats](http://biostat.mc.vanderbilt.edu/wiki/Main/DataSets) from the file titanic3.csv\n",
    "\n",
    "It is important that the column names between these various csv's match and that the passenger names match as well so that we can perform table merges correctly.  The Kaggle data has capitalized column names while the Vanderbuilt does not, so I modified titanic3.csv so that, where appropriate, the column names match.\n",
    "\n",
    "Also, these two data sources treat embedded double quotes differently.  The Vanderbuilt data is consistent, but the Kaggle date is really borked on this one.  So I removed all embedded double quotes from the files.  This can be done by the following shell commands.\n",
    "\n",
    "    sed -e 's/\\\"\\\"\\\"\\\"\\\"/\\\"/g' -e 's/\\\"\\\"\\\"/\\\"/g' -e 's/\\\"\\\"//g' train.csv >train_mod.csv\n",
    "    sed -e 's/\\\"\\\"\\\"\\\"\\\"/\\\"/g' -e 's/\\\"\\\"\\\"/\\\"/g' -e 's/\\\"\\\"//g' test.csv >test_mod.csv\n",
    "\n",
    "Now for the code.  First the imports and a define of a custom exception"
   ]
  },
  {
   "cell_type": "code",
   "execution_count": 18,
   "metadata": {
    "collapsed": true
   },
   "outputs": [],
   "source": [
    "import numpy as np\n",
    "import pandas as pd\n",
    "from pandas import DataFrame\n",
    "import sklearn\n",
    "from sklearn.manifold import TSNE\n",
    "from sklearn.linear_model import LogisticRegression\n",
    "\n",
    "class PredictionError(Exception):\n",
    "    pass"
   ]
  },
  {
   "cell_type": "markdown",
   "metadata": {},
   "source": [
    "We will read in the data (eventually) using the pandas read_csv method.  I chose to read all of it in and clean it in a separate step.  That is done by this function, which is largely what the Kaggle Python code does (only a little less ugly)"
   ]
  },
  {
   "cell_type": "code",
   "execution_count": 19,
   "metadata": {
    "collapsed": true
   },
   "outputs": [],
   "source": [
    "def clean_data(tdf):\n",
    "    tdf['gender'] = tdf['Sex'].map( {'female': 0, 'male': 1} ).astype(int)\n",
    "\n",
    "    # Missing values will be filled with medians\n",
    "    tdf = tdf.fillna(tdf.median())\n",
    "\n",
    "    # Drop all the features that will not be used in logistic regression\n",
    "    tdf = tdf.drop(['Name', 'Sex', 'Ticket', 'Cabin', 'PassengerId',\n",
    "                    'Embarked'], axis=1)\n",
    "    return tdf"
   ]
  },
  {
   "cell_type": "markdown",
   "metadata": {},
   "source": [
    "We would like to find out how accurate our predictions are and since we have the full survivorship data in titanic3.csv (or titanic3_mod.csv) we can do that.  Here we assume that we have a DataFrame that has the ground truth column as well as the prediction column.  We pass in the dataframe, the name of the ground truth column and the prediction column."
   ]
  },
  {
   "cell_type": "code",
   "execution_count": 20,
   "metadata": {
    "collapsed": true
   },
   "outputs": [],
   "source": [
    "def score_results(df, gt, pred):\n",
    "    \"\"\" Score the results in a DataFrame that has both the ground\n",
    "        truth and the prediction. gt is the name of the ground truth\n",
    "        column etc.  Return the raw accuracy, the precision and the recall.\n",
    "        Note that precision and recall are most useful for evaluating\n",
    "        predictions on rare events. \"\"\"\n",
    "    correct = df.ix[df[gt] == df[pred]]\n",
    "    incorrect = df.ix[df[gt] != df[pred]]\n",
    "    true_pos = len(correct.ix[correct[gt] == 1])\n",
    "    true_neg = len(correct.ix[correct[gt] == 0])\n",
    "    false_neg = len(incorrect.ix[incorrect[pred] == 0])\n",
    "    false_pos = len(incorrect.ix[incorrect[pred] == 1])\n",
    "\n",
    "    precision = true_pos / (true_pos + false_pos)\n",
    "    recall = true_pos / (true_pos + false_neg)\n",
    "    num_correct = len(correct)\n",
    "    tot_pred = len(df)\n",
    "    accuracy = num_correct / tot_pred\n",
    "    return accuracy, precision, recall"
   ]
  },
  {
   "cell_type": "markdown",
   "metadata": {},
   "source": [
    "Now we can read in the data, clean it, and before doing any training, we take a look at the correlation coefficients of the data. Not surprisingly, there is a wide range of correlation."
   ]
  },
  {
   "cell_type": "code",
   "execution_count": 21,
   "metadata": {
    "collapsed": false,
    "scrolled": true
   },
   "outputs": [
    {
     "name": "stdout",
     "output_type": "stream",
     "text": [
      "          Survived    Pclass       Age     SibSp     Parch      Fare    gender\n",
      "Survived  1.000000 -0.338481 -0.064910 -0.035322  0.081629  0.257307 -0.543351\n",
      "Pclass   -0.338481  1.000000 -0.339898  0.083081  0.018443 -0.549500  0.131900\n",
      "Age      -0.064910 -0.339898  1.000000 -0.233296 -0.172482  0.096688  0.081163\n",
      "SibSp    -0.035322  0.083081 -0.233296  1.000000  0.414838  0.159651 -0.114631\n",
      "Parch     0.081629  0.018443 -0.172482  0.414838  1.000000  0.216225 -0.245489\n",
      "Fare      0.257307 -0.549500  0.096688  0.159651  0.216225  1.000000 -0.182333\n",
      "gender   -0.543351  0.131900  0.081163 -0.114631 -0.245489 -0.182333  1.000000\n"
     ]
    }
   ],
   "source": [
    "trdf = pd.read_csv(\"train_mod.csv\", header=0)\n",
    "trdf = clean_data(trdf)\n",
    "#print(trdf.describe())\n",
    "print(trdf.corr())"
   ]
  },
  {
   "cell_type": "markdown",
   "metadata": {},
   "source": [
    "So the pairwise correlation for **Survived** is high for **Pclass**, **Fare**, and **gender**, but much smaller for the others.  Now we are ready to train a Logistic and see how well it performs"
   ]
  },
  {
   "cell_type": "code",
   "execution_count": 22,
   "metadata": {
    "collapsed": false
   },
   "outputs": [
    {
     "name": "stdout",
     "output_type": "stream",
     "text": [
      "accuracy: 0.7655502392344498   precision: 0.6973684210526315   recall: 0.6708860759493671\n"
     ]
    }
   ],
   "source": [
    "train = trdf.values\n",
    "logit = LogisticRegression()\n",
    "logit.fit(train[:, 1:], train[:, 0])\n",
    "\n",
    "testdf = pd.read_csv(\"test_mod.csv\", header=0)\n",
    "pass_survival = testdf.copy()\n",
    "svm_test = testdf.copy()        # for later use with an svm classifier\n",
    "testdf = clean_data(testdf)\n",
    "\n",
    "c = logit.predict(testdf.values)\n",
    "\n",
    "# add the survival prediction column\n",
    "pass_survival['pred_survival'] = c\n",
    "\n",
    "# Get the ground truth dataset\n",
    "gtdf = pd.read_csv(\"titanic3_mod.csv\", header=0)\n",
    "\n",
    "# Now merge the predictions with the ground truth.  This\n",
    "# is like a table join in the database world.\n",
    "ansdf = pd.merge(gtdf, pass_survival)\n",
    "\n",
    "# check to see if we got all the answers\n",
    "if len(pass_survival) != len(ansdf):\n",
    "    raise PredictionError(\"Did not match all predictions with ground truth\")\n",
    "\n",
    "accuracy, precision, recall = score_results(ansdf, 'Survived', \n",
    "                                                'pred_survival')\n",
    "\n",
    "print(\"accuracy: {}   precision: {}   recall: {}\".format(accuracy,\n",
    "           precision, recall))"
   ]
  },
  {
   "cell_type": "markdown",
   "metadata": {},
   "source": [
    "So a 76.5% accuracy using 6 features (Pclass, Age, SibSp, Parch, Fare, Gender) and recall that all missing values were replaced by means.\n",
    "\n",
    "We forgot to see how well this model does on the training data itself.  Let's take a look"
   ]
  },
  {
   "cell_type": "code",
   "execution_count": 23,
   "metadata": {
    "collapsed": false
   },
   "outputs": [
    {
     "name": "stdout",
     "output_type": "stream",
     "text": [
      "accuracy: 0.8183738120380147   precision: 0.7681660899653979   recall: 0.6788990825688074\n"
     ]
    }
   ],
   "source": [
    "m = logit.predict(train[:, 1:])\n",
    "m_surv = trdf.copy()\n",
    "m_surv['pred_survival'] = m\n",
    "\n",
    "moddf = pd.merge(gtdf, m_surv)\n",
    "a, p, r = score_results(moddf, 'Survived', 'pred_survival')\n",
    "print(\"accuracy: {}   precision: {}   recall: {}\".format(a, p, r))"
   ]
  },
  {
   "cell_type": "markdown",
   "metadata": {},
   "source": [
    "So we do get the expected results that the model performs better on the training data than on the test data.  But it is not that much better.  This shows that whoever did the data partitioning, did a reasonibly good (or random) job.\n",
    "\n",
    "The data we fit used 6 different features.  If we want to visualize this we can reduce the dimensionality to 2 and plot to see if there is any clustering.  We will use the tSNE algorithm that is described [here](https://beta.oreilly.com/learning/an-illustrated-introduction-to-the-t-sne-algorithm) and we use the training data set. Note that the survival data is **not** used in the t-SNE algorithm, but we do use it to color the dots in the scatter plot to help visualization."
   ]
  },
  {
   "cell_type": "code",
   "execution_count": 24,
   "metadata": {
    "collapsed": false,
    "scrolled": false
   },
   "outputs": [
    {
     "data": {
      "text/plain": [
       "(-24.608657092592388,\n",
       " 30.924201856732687,\n",
       " -27.817194373451549,\n",
       " 31.951642676998187)"
      ]
     },
     "execution_count": 24,
     "metadata": {},
     "output_type": "execute_result"
    },
    {
     "data": {
      "image/png": "[encoded data removed]",
      "text/plain": [
       "<matplotlib.figure.Figure at 0x7f510c641278>"
      ]
     },
     "metadata": {},
     "output_type": "display_data"
    }
   ],
   "source": [
    "import matplotlib\n",
    "%matplotlib inline\n",
    "import matplotlib.pylab as plt\n",
    "\n",
    "import seaborn as sns\n",
    "sns.set_style('darkgrid')\n",
    "sns.set_palette('muted')\n",
    "sns.set_context(\"notebook\", rc={\"lines.linewidth\": 2.5})\n",
    "\n",
    "palette = np.array(sns.color_palette(\"hls\", 2))\n",
    "\n",
    "# We want the same visualization so we set random seed\n",
    "x = TSNE(random_state=14921137).fit_transform(train[:, 1:])\n",
    "\n",
    "f = plt.figure(figsize=(8, 8))\n",
    "ax = plt.subplot(aspect='equal')\n",
    "sc = ax.scatter(x[:,0], x[:,1], lw=0,  s=40, c=palette[train[:, 0].astype(np.int)])\n",
    "plt.xlim(-25, 25)\n",
    "plt.ylim(-25, 25)\n",
    "ax.axis('off')\n",
    "ax.axis('tight')"
   ]
  },
  {
   "cell_type": "markdown",
   "metadata": {},
   "source": [
    "It certainly looks like there is some clustering of the data. Unfortunately for us, this clustering doesn't seem to distinguish much between those who survived and those who did not.  This makes me suspect that using an SVM classifier will have poor results.  Let's see if that is true.  Given this picture, I am not going to bother with a linear classifier but instead go straight to a non-linear one."
   ]
  },
  {
   "cell_type": "code",
   "execution_count": 25,
   "metadata": {
    "collapsed": false
   },
   "outputs": [
    {
     "name": "stdout",
     "output_type": "stream",
     "text": [
      "accuracy: 0.6339712918660287   precision: 0.5151515151515151   recall: 0.5379746835443038\n"
     ]
    }
   ],
   "source": [
    "cla = sklearn.svm.NuSVC()\n",
    "cla.fit(train[:, 1:], train[:, 0])\n",
    "svm_results = cla.predict(testdf.values)\n",
    "svm_test['pred_survival'] = svm_results\n",
    "#print(svm_test.describe())\n",
    "\n",
    "svm_ansdf = pd.merge(gtdf, svm_test)\n",
    "#print(svm_ansdf.describe())\n",
    "\n",
    "# check to see if we got all the answers\n",
    "if len(svm_test) != len(svm_ansdf):\n",
    "    raise PredictionError(\"Did not match all predictions with ground truth\")\n",
    "\n",
    "accuracy, precision, recall = score_results(svm_ansdf, 'Survived', \n",
    "                                                'pred_survival')\n",
    "\n",
    "print(\"accuracy: {}   precision: {}   recall: {}\".format(accuracy,\n",
    "           precision, recall))"
   ]
  },
  {
   "cell_type": "markdown",
   "metadata": {},
   "source": [
    "Ouch!  That didn't work too well."
   ]
  }
 ],
 "metadata": {
  "kernelspec": {
   "display_name": "Python 3",
   "language": "python",
   "name": "python3"
  },
  "language_info": {
   "codemirror_mode": {
    "name": "ipython",
    "version": 3
   },
   "file_extension": ".py",
   "mimetype": "text/x-python",
   "name": "python",
   "nbconvert_exporter": "python",
   "pygments_lexer": "ipython3",
   "version": "3.4.3"
  }
 },
 "nbformat": 4,
 "nbformat_minor": 0
}
